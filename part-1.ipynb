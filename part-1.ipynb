{
 "cells": [
  {
   "cell_type": "code",
   "execution_count": 2,
   "metadata": {},
   "outputs": [],
   "source": [
    "import os\n",
    "import sys\n",
    "import re\n",
    "import shutil\n",
    "import time\n",
    "import pickle\n",
    "from collections import defaultdict\n",
    "from datetime import datetime\n",
    "import numpy as np\n",
    "import pandas as pd\n",
    "import matplotlib.pyplot as plt\n",
    "import matplotlib.dates as mdates\n",
    "from pandas.plotting import register_matplotlib_converters\n",
    "register_matplotlib_converters()\n",
    "\n",
    "from helper.fetchlib import fetch_ts, fetch_data"
   ]
  },
  {
   "cell_type": "code",
   "execution_count": 3,
   "metadata": {},
   "outputs": [
    {
     "name": "stdout",
     "output_type": "stream",
     "text": [
      "...fetching data\n",
      "... loading ts data from files\n",
      "load time: 0:00:00\n",
      "portugal (607, 7)\n",
      "united_kingdom (607, 7)\n",
      "hong_kong (426, 7)\n",
      "eire (607, 7)\n",
      "spain (607, 7)\n",
      "france (607, 7)\n",
      "singapore (456, 7)\n",
      "norway (577, 7)\n",
      "germany (607, 7)\n",
      "netherlands (607, 7)\n"
     ]
    }
   ],
   "source": [
    "run_start = time.time() \n",
    "data_dir = os.path.join(\".\",\"data\",\"cs-train\")\n",
    "print(\"...fetching data\")\n",
    "\n",
    "ts_all = fetch_ts(data_dir,clean=False)\n",
    "\n",
    "m, s = divmod(time.time()-run_start,60)\n",
    "h, m = divmod(m, 60)\n",
    "print(\"load time:\", \"%d:%02d:%02d\"%(h, m, s))\n",
    "frames = []\n",
    "for key,item in ts_all.items():\n",
    "    if key !='all':\n",
    "        print(key,item.shape)\n",
    "        item['country'] = key\n",
    "    \n",
    "        frames.append(item)\n",
    "result = pd.concat(frames)\n",
    "\n",
    "year = result['year_month'].apply(lambda x: x.split('-')[0])\n",
    "result['year'] = year"
   ]
  },
  {
   "cell_type": "code",
   "execution_count": 4,
   "metadata": {},
   "outputs": [],
   "source": [
    "from IPython.display import Image\n",
    "import matplotlib.pyplot as plt\n",
    "import seaborn as sns"
   ]
  },
  {
   "cell_type": "code",
   "execution_count": 5,
   "metadata": {},
   "outputs": [
    {
     "data": {
      "text/html": [
       "<div>\n",
       "<style scoped>\n",
       "    .dataframe tbody tr th:only-of-type {\n",
       "        vertical-align: middle;\n",
       "    }\n",
       "\n",
       "    .dataframe tbody tr th {\n",
       "        vertical-align: top;\n",
       "    }\n",
       "\n",
       "    .dataframe thead th {\n",
       "        text-align: right;\n",
       "    }\n",
       "</style>\n",
       "<table border=\"1\" class=\"dataframe\">\n",
       "  <thead>\n",
       "    <tr style=\"text-align: right;\">\n",
       "      <th></th>\n",
       "      <th>date</th>\n",
       "      <th>purchases</th>\n",
       "      <th>unique_invoices</th>\n",
       "      <th>unique_streams</th>\n",
       "      <th>total_views</th>\n",
       "      <th>year_month</th>\n",
       "      <th>revenue</th>\n",
       "      <th>country</th>\n",
       "      <th>year</th>\n",
       "    </tr>\n",
       "  </thead>\n",
       "  <tbody>\n",
       "    <tr>\n",
       "      <th>0</th>\n",
       "      <td>2017-11-01</td>\n",
       "      <td>0</td>\n",
       "      <td>0</td>\n",
       "      <td>0</td>\n",
       "      <td>0</td>\n",
       "      <td>2017-11</td>\n",
       "      <td>0.0</td>\n",
       "      <td>portugal</td>\n",
       "      <td>2017</td>\n",
       "    </tr>\n",
       "    <tr>\n",
       "      <th>1</th>\n",
       "      <td>2017-11-02</td>\n",
       "      <td>0</td>\n",
       "      <td>0</td>\n",
       "      <td>0</td>\n",
       "      <td>0</td>\n",
       "      <td>2017-11</td>\n",
       "      <td>0.0</td>\n",
       "      <td>portugal</td>\n",
       "      <td>2017</td>\n",
       "    </tr>\n",
       "    <tr>\n",
       "      <th>2</th>\n",
       "      <td>2017-11-03</td>\n",
       "      <td>0</td>\n",
       "      <td>0</td>\n",
       "      <td>0</td>\n",
       "      <td>0</td>\n",
       "      <td>2017-11</td>\n",
       "      <td>0.0</td>\n",
       "      <td>portugal</td>\n",
       "      <td>2017</td>\n",
       "    </tr>\n",
       "    <tr>\n",
       "      <th>3</th>\n",
       "      <td>2017-11-04</td>\n",
       "      <td>0</td>\n",
       "      <td>0</td>\n",
       "      <td>0</td>\n",
       "      <td>0</td>\n",
       "      <td>2017-11</td>\n",
       "      <td>0.0</td>\n",
       "      <td>portugal</td>\n",
       "      <td>2017</td>\n",
       "    </tr>\n",
       "    <tr>\n",
       "      <th>4</th>\n",
       "      <td>2017-11-05</td>\n",
       "      <td>0</td>\n",
       "      <td>0</td>\n",
       "      <td>0</td>\n",
       "      <td>0</td>\n",
       "      <td>2017-11</td>\n",
       "      <td>0.0</td>\n",
       "      <td>portugal</td>\n",
       "      <td>2017</td>\n",
       "    </tr>\n",
       "  </tbody>\n",
       "</table>\n",
       "</div>"
      ],
      "text/plain": [
       "         date  purchases  unique_invoices  unique_streams  total_views  \\\n",
       "0  2017-11-01          0                0               0            0   \n",
       "1  2017-11-02          0                0               0            0   \n",
       "2  2017-11-03          0                0               0            0   \n",
       "3  2017-11-04          0                0               0            0   \n",
       "4  2017-11-05          0                0               0            0   \n",
       "\n",
       "  year_month  revenue   country  year  \n",
       "0    2017-11      0.0  portugal  2017  \n",
       "1    2017-11      0.0  portugal  2017  \n",
       "2    2017-11      0.0  portugal  2017  \n",
       "3    2017-11      0.0  portugal  2017  \n",
       "4    2017-11      0.0  portugal  2017  "
      ]
     },
     "execution_count": 5,
     "metadata": {},
     "output_type": "execute_result"
    }
   ],
   "source": [
    "result.head()"
   ]
  },
  {
   "cell_type": "code",
   "execution_count": 7,
   "metadata": {},
   "outputs": [
    {
     "name": "stdout",
     "output_type": "stream",
     "text": [
      "country\n",
      "eire               104589.400\n",
      "france              38985.420\n",
      "germany             45651.261\n",
      "hong_kong           14393.130\n",
      "netherlands         12296.780\n",
      "norway              38326.120\n",
      "portugal            13327.210\n",
      "singapore           12945.460\n",
      "spain               15393.360\n",
      "united_kingdom    3343551.644\n",
      "Name: revenue, dtype: float64\n"
     ]
    }
   ],
   "source": [
    "print( result.groupby(['country'])['revenue'].sum())"
   ]
  },
  {
   "cell_type": "code",
   "execution_count": 8,
   "metadata": {},
   "outputs": [
    {
     "data": {
      "image/png": "[encoded data removed]",
      "text/plain": [
       "<Figure size 432x288 with 1 Axes>"
      ]
     },
     "metadata": {
      "needs_background": "light"
     },
     "output_type": "display_data"
    }
   ],
   "source": [
    "res = result[result['country'] == 'united_kingdom'].groupby(['country','year'])['revenue'].sum().unstack()\n",
    "ax = res.plot.barh()\n",
    "ax.set_xscale(\"log\")"
   ]
  },
  {
   "cell_type": "code",
   "execution_count": 6,
   "metadata": {},
   "outputs": [
    {
     "data": {
      "image/png": "[encoded data removed]",
      "text/plain": [
       "<Figure size 432x288 with 1 Axes>"
      ]
     },
     "metadata": {
      "needs_background": "light"
     },
     "output_type": "display_data"
    }
   ],
   "source": [
    "r2 = result.groupby(['country','year'])['revenue'].sum().unstack()\n",
    "ax2 = r2.plot.barh()\n",
    "# scale x normal"
   ]
  },
  {
   "cell_type": "code",
   "execution_count": 41,
   "metadata": {},
   "outputs": [
    {
     "data": {
      "image/png": "[encoded data removed]",
      "text/plain": [
       "<Figure size 432x288 with 1 Axes>"
      ]
     },
     "metadata": {
      "needs_background": "light"
     },
     "output_type": "display_data"
    }
   ],
   "source": [
    "ax3 = r2.plot.barh()\n",
    "ax3.set_xscale(\"log\")\n",
    "\n",
    "#scale x logarythm"
   ]
  },
  {
   "cell_type": "code",
   "execution_count": null,
   "metadata": {},
   "outputs": [],
   "source": []
  }
 ],
 "metadata": {
  "kernelspec": {
   "display_name": "Python 3",
   "language": "python",
   "name": "python3"
  },
  "language_info": {
   "codemirror_mode": {
    "name": "ipython",
    "version": 3
   },
   "file_extension": ".py",
   "mimetype": "text/x-python",
   "name": "python",
   "nbconvert_exporter": "python",
   "pygments_lexer": "ipython3",
   "version": "3.8.5"
  }
 },
 "nbformat": 4,
 "nbformat_minor": 4
}
